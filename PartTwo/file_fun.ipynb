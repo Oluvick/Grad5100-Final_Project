{
 "cells": [
  {
   "cell_type": "code",
   "execution_count": 1,
   "id": "92e0aed2-c26b-42aa-ad20-a0620ed7b93a",
   "metadata": {},
   "outputs": [],
   "source": [
    "def extract_and_rename(code):\n",
    "    parts = code.split('_')\n",
    "    new_filename = f\"{parts[1]}.{parts[2]}\"\n",
    "    return new_filename"
   ]
  },
  {
   "cell_type": "code",
   "execution_count": 2,
   "id": "0a08c5f0-9415-436d-bd5e-1b2b4339eb73",
   "metadata": {},
   "outputs": [],
   "source": [
    "import os\n",
    "\n",
    "with open('codes.txt', 'r') as file:\n",
    "    lines = file.readlines()\n",
    "\n",
    "# Create the 'expanded' directory \n",
    "if not os.path.exists('expanded'):\n",
    "    os.makedirs('expanded')\n",
    "\n",
    "# Process each line, extract the new filename and write the number into the file\n",
    "for line in lines:\n",
    "    line = line.strip()  # Remove any leading/trailing whitespace\n",
    "    new_filename = extract_and_rename(line)\n",
    "    number = line.split('_')[0]\n",
    "    \n",
    "    # Write the number to the corresponding file in the 'expanded' subdirectory\n",
    "    with open(f'expanded/{new_filename}', 'w') as new_file:\n",
    "        new_file.write(number)\n"
   ]
  },
  {
   "cell_type": "code",
   "execution_count": null,
   "id": "95223448-dd25-4774-99fa-9eb79b5a99e0",
   "metadata": {},
   "outputs": [],
   "source": []
  }
 ],
 "metadata": {
  "kernelspec": {
   "display_name": "Python 3 (ipykernel)",
   "language": "python",
   "name": "python3"
  },
  "language_info": {
   "codemirror_mode": {
    "name": "ipython",
    "version": 3
   },
   "file_extension": ".py",
   "mimetype": "text/x-python",
   "name": "python",
   "nbconvert_exporter": "python",
   "pygments_lexer": "ipython3",
   "version": "3.11.5"
  }
 },
 "nbformat": 4,
 "nbformat_minor": 5
}
