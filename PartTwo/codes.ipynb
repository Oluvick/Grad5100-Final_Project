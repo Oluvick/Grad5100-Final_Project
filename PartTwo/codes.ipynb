{
 "cells": [
  {
   "cell_type": "code",
   "execution_count": 1,
   "id": "afae79ca-793d-47ac-9a4f-580337cfd425",
   "metadata": {},
   "outputs": [
    {
     "name": "stdout",
     "output_type": "stream",
     "text": [
      "'codes.txt' has been created with content.\n"
     ]
    }
   ],
   "source": [
    "\n",
    "codes = [\n",
    "     \"26167_ZCOPM_py\", \"69118_WREZP_py\", \"20278_BOCOV_txt\", \"82542_TRNPP_txt\", \"50874_PXFVT_py\", \"35059_NQLMN_py\", \"90941_JOIBU_txt\", \"82187_XAGTS_py\",\n",
    "     \"95034_ICOSX_py\", \"67809_ORWMC_py\", \"15884_LRCWT_txt\", \"52853_JTANV_py\", \"35208_MTNKQ_py\", \"13430_SFUAN_txt\", \"75042_AINQQ_py\", \"88888_BRITJ_txt\",\n",
    "     \"68403_CVVAW_txt\", \"79773_EEYIX_csv\", \"45290_YUPAG_txt\", \"49966_VVKWW_py\", \"32446_WDNBE_txt\", \"27279_RHAYN_py\", \"96674_OFDGE_txt\", \"82958_XSMJD_txt\",\n",
    "     \"87282_ECXJA_csv\", \"95625_FFXUT_py\", \"55848_AHKAM_csv\", \"12492_OIJJU_txt\", \"69069_NJSBK_txt\", \"61477_GJPTS_csv\", \"77478_OAUWT_txt\", \"35568_JQNZU_csv\",\n",
    "     \"14864_RNFVB_csv\", \"58085_APZTE_py\", \"16183_BUIAR_txt\", \"37903_GGHZL_txt\", \"87070_UYHCG_csv\", \"50233_GSRFM_txt\", \"25014_CGOHK_py\", \"76568_UEUTJ_csv\",\n",
    "     \"51268_BXXNW_csv\", \"56163_YNOGN_txt\", \"74324_TTGSR_txt\", \"51104_DHACA_csv\", \"86220_XKLIA_csv\", \"75965_CDUFO_csv\", \"16279_LYRQF_txt\", \"95896_LZCWS_txt\",\n",
    "     \"19975_KTWBT_txt\", \"31114_BCTOB_txt\"\n",
    "]\n",
    "\n",
    "\n",
    "path_to_file = 'codes.txt'\n",
    "\n",
    "with open(path_to_file, 'w') as file:\n",
    "    for code in codes:\n",
    "        file.write(code + '\\n')\n",
    "\n",
    "print(f\"'{path_to_file}' has been created with content.\")\n"
   ]
  },
  {
   "cell_type": "code",
   "execution_count": null,
   "id": "b2fee2f2-33de-49a9-9b27-585a39266173",
   "metadata": {},
   "outputs": [],
   "source": []
  }
 ],
 "metadata": {
  "kernelspec": {
   "display_name": "Python 3 (ipykernel)",
   "language": "python",
   "name": "python3"
  },
  "language_info": {
   "codemirror_mode": {
    "name": "ipython",
    "version": 3
   },
   "file_extension": ".py",
   "mimetype": "text/x-python",
   "name": "python",
   "nbconvert_exporter": "python",
   "pygments_lexer": "ipython3",
   "version": "3.11.5"
  }
 },
 "nbformat": 4,
 "nbformat_minor": 5
}
