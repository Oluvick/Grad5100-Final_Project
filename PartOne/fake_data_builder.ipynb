{
 "cells": [
  {
   "cell_type": "code",
   "execution_count": 14,
   "id": "0b765c90-d5fa-4a2c-8c1d-4cf30fff14dd",
   "metadata": {},
   "outputs": [],
   "source": [
    "# Importing required libraries\n",
    "import numpy as np\n",
    "import pandas as pd\n",
    "from scipy.stats import norm\n",
    "import matplotlib.pyplot as plt"
   ]
  },
  {
   "cell_type": "code",
   "execution_count": 15,
   "id": "6c868f1d-e93c-489b-950e-2e50082faf0e",
   "metadata": {},
   "outputs": [],
   "source": [
    "# Set the seed for reproducibility\n",
    "np.random.seed(0)"
   ]
  },
  {
   "cell_type": "code",
   "execution_count": 16,
   "id": "4db0da5c-8e23-4b3a-b992-b79025d2e2e8",
   "metadata": {},
   "outputs": [],
   "source": [
    "# Constants for the dataset\n",
    "N_SAMPLES = 800\n",
    "FEATURE_1_MEAN = 2500\n",
    "FEATURE_1_STD = 200\n",
    "FEATURE_2_MEAN = 400\n",
    "FEATURE_2_STD = 15\n",
    "FEATURE_3_STD = 12"
   ]
  },
  {
   "cell_type": "code",
   "execution_count": 17,
   "id": "6cfee961-3ea5-49f9-8206-8407f3886f0b",
   "metadata": {},
   "outputs": [],
   "source": [
    "# Generate Feature_1 and ensure it's within the specified range\n",
    "Feature_1 = np.random.normal(FEATURE_1_MEAN, FEATURE_1_STD, N_SAMPLES)\n",
    "Feature_1 = np.clip(Feature_1, 2200, 2800)\n",
    "\n",
    "# Generate Feature_2\n",
    "Feature_2 = np.random.normal(FEATURE_2_MEAN, FEATURE_2_STD, N_SAMPLES)"
   ]
  },
  {
   "cell_type": "code",
   "execution_count": 18,
   "id": "16bb2e69-e077-464a-8535-3c8f42381574",
   "metadata": {},
   "outputs": [],
   "source": [
    "# Generate Groups with roughly equal distribution\n",
    "groups = ['A', 'B', 'C']\n",
    "Group = np.random.choice(groups, N_SAMPLES, p=[1/3, 1/3, 1/3])"
   ]
  },
  {
   "cell_type": "code",
   "execution_count": 19,
   "id": "35196bc6-4dcf-41d8-9b74-32323ed6f6e7",
   "metadata": {},
   "outputs": [],
   "source": [
    "# Create a DataFrame\n",
    "df = pd.DataFrame({\n",
    "    'ID': [f'D{str(i).zfill(3)}' for i in range(1, N_SAMPLES + 1)],\n",
    "    'Group': Group,\n",
    "    'Feature_1': Feature_1,\n",
    "    'Feature_2': Feature_2\n",
    "})"
   ]
  },
  {
   "cell_type": "code",
   "execution_count": 20,
   "id": "e62707d9-f3a0-4e79-97a2-ac1f1880a40b",
   "metadata": {},
   "outputs": [],
   "source": [
    "# Define the function to calculate Feature_3 based on the group\n",
    "def calculate_feature_3(row):\n",
    "    if row['Group'] == 'A':\n",
    "        return 3 * row['Feature_1'] - 5 * row['Feature_2']\n",
    "    elif row['Group'] == 'B':\n",
    "        return 2 * row['Feature_1']\n",
    "    elif row['Group'] == 'C':\n",
    "        return -row['Feature_1'] + row['Feature_2']\n",
    "\n",
    "# Apply the function to calculate Feature_3 without noise\n",
    "df['Feature_3_base'] = df.apply(calculate_feature_3, axis=1)"
   ]
  },
  {
   "cell_type": "code",
   "execution_count": 21,
   "id": "ec6b6c95-2415-43e4-89f8-7114f5fb788f",
   "metadata": {},
   "outputs": [],
   "source": [
    "# Add normally distributed noise to Feature_3\n",
    "df['Feature_3'] = df['Feature_3_base'] + np.random.normal(0, FEATURE_3_STD, N_SAMPLES)\n",
    "\n",
    "# Drop the base Feature_3 as it's no longer needed\n",
    "df.drop('Feature_3_base', axis=1, inplace=True)"
   ]
  },
  {
   "cell_type": "code",
   "execution_count": 22,
   "id": "e8abf6f7-a35e-40ab-be09-823462de55a7",
   "metadata": {},
   "outputs": [
    {
     "data": {
      "text/html": [
       "<div>\n",
       "<style scoped>\n",
       "    .dataframe tbody tr th:only-of-type {\n",
       "        vertical-align: middle;\n",
       "    }\n",
       "\n",
       "    .dataframe tbody tr th {\n",
       "        vertical-align: top;\n",
       "    }\n",
       "\n",
       "    .dataframe thead th {\n",
       "        text-align: right;\n",
       "    }\n",
       "</style>\n",
       "<table border=\"1\" class=\"dataframe\">\n",
       "  <thead>\n",
       "    <tr style=\"text-align: right;\">\n",
       "      <th></th>\n",
       "      <th>ID</th>\n",
       "      <th>Group</th>\n",
       "      <th>Feature_1</th>\n",
       "      <th>Feature_2</th>\n",
       "      <th>Feature_3</th>\n",
       "    </tr>\n",
       "  </thead>\n",
       "  <tbody>\n",
       "    <tr>\n",
       "      <th>0</th>\n",
       "      <td>D001</td>\n",
       "      <td>B</td>\n",
       "      <td>2800.00</td>\n",
       "      <td>421.17</td>\n",
       "      <td>5618.68</td>\n",
       "    </tr>\n",
       "    <tr>\n",
       "      <th>1</th>\n",
       "      <td>D002</td>\n",
       "      <td>C</td>\n",
       "      <td>2580.03</td>\n",
       "      <td>411.79</td>\n",
       "      <td>-2157.64</td>\n",
       "    </tr>\n",
       "    <tr>\n",
       "      <th>2</th>\n",
       "      <td>D003</td>\n",
       "      <td>A</td>\n",
       "      <td>2695.75</td>\n",
       "      <td>399.14</td>\n",
       "      <td>6067.32</td>\n",
       "    </tr>\n",
       "    <tr>\n",
       "      <th>3</th>\n",
       "      <td>D004</td>\n",
       "      <td>A</td>\n",
       "      <td>2800.00</td>\n",
       "      <td>394.13</td>\n",
       "      <td>6417.53</td>\n",
       "    </tr>\n",
       "    <tr>\n",
       "      <th>4</th>\n",
       "      <td>D005</td>\n",
       "      <td>B</td>\n",
       "      <td>2800.00</td>\n",
       "      <td>414.11</td>\n",
       "      <td>5597.75</td>\n",
       "    </tr>\n",
       "  </tbody>\n",
       "</table>\n",
       "</div>"
      ],
      "text/plain": [
       "     ID Group  Feature_1  Feature_2  Feature_3\n",
       "0  D001     B    2800.00     421.17    5618.68\n",
       "1  D002     C    2580.03     411.79   -2157.64\n",
       "2  D003     A    2695.75     399.14    6067.32\n",
       "3  D004     A    2800.00     394.13    6417.53\n",
       "4  D005     B    2800.00     414.11    5597.75"
      ]
     },
     "execution_count": 22,
     "metadata": {},
     "output_type": "execute_result"
    }
   ],
   "source": [
    "# Adjust the DataFrame display to limit the floating point numbers to 2 significant figures\n",
    "pd.options.display.float_format = '{:.2f}'.format\n",
    "\n",
    "# Display the first few rows of the dataframe to verify the dataset\n",
    "df.head()"
   ]
  },
  {
   "cell_type": "markdown",
   "id": "c03e384d-a9ef-41ab-9e6a-36acbdfa2409",
   "metadata": {},
   "source": [
    "## Question 2"
   ]
  },
  {
   "cell_type": "code",
   "execution_count": 26,
   "id": "10fb37e9-2933-4ad0-9f48-5c1ef7c8dd8f",
   "metadata": {},
   "outputs": [
    {
     "name": "stdout",
     "output_type": "stream",
     "text": [
      "The theoretical number of samples where Feature_1 is greater than 3000 is approximately 4.97. This is based on the properties of the normal distribution of Feature_1.\n"
     ]
    }
   ],
   "source": [
    "# 2a.\n",
    "# For a normal distribution, we calculate the cumulative distribution function (CDF) for the value 3000\n",
    "theoretical_count = N_SAMPLES * (1 - norm.cdf(3000, FEATURE_1_MEAN, FEATURE_1_STD))\n",
    "print(f\"The theoretical number of samples where Feature_1 is greater than 3000 is approximately {theoretical_count:.2f}. This is based on the properties of the normal distribution of Feature_1.\")"
   ]
  },
  {
   "cell_type": "code",
   "execution_count": 27,
   "id": "4db832f4-e839-4f7b-915b-b1d4876824be",
   "metadata": {},
   "outputs": [
    {
     "name": "stdout",
     "output_type": "stream",
     "text": [
      "The actual number of samples where Feature_1 is greater than 3000 is: 0.\n"
     ]
    }
   ],
   "source": [
    "# 2b: Actual number of samples with Feature_1 > 3000\n",
    "actual_count = sum(df['Feature_1'] > 3000)\n",
    "print(f\"The actual number of samples where Feature_1 is greater than 3000 is: {actual_count}.\")"
   ]
  },
  {
   "cell_type": "code",
   "execution_count": 29,
   "id": "e20b33ee-9d70-41aa-a7b6-4c12f9d94c1e",
   "metadata": {},
   "outputs": [
    {
     "name": "stdout",
     "output_type": "stream",
     "text": [
      "The mean and standard deviation of Feature_3 within each group are:\n"
     ]
    },
    {
     "data": {
      "text/html": [
       "<div>\n",
       "<style scoped>\n",
       "    .dataframe tbody tr th:only-of-type {\n",
       "        vertical-align: middle;\n",
       "    }\n",
       "\n",
       "    .dataframe tbody tr th {\n",
       "        vertical-align: top;\n",
       "    }\n",
       "\n",
       "    .dataframe thead th {\n",
       "        text-align: right;\n",
       "    }\n",
       "</style>\n",
       "<table border=\"1\" class=\"dataframe\">\n",
       "  <thead>\n",
       "    <tr style=\"text-align: right;\">\n",
       "      <th></th>\n",
       "      <th>Group</th>\n",
       "      <th>mean</th>\n",
       "      <th>std</th>\n",
       "    </tr>\n",
       "  </thead>\n",
       "  <tbody>\n",
       "    <tr>\n",
       "      <th>0</th>\n",
       "      <td>A</td>\n",
       "      <td>5443.81</td>\n",
       "      <td>529.38</td>\n",
       "    </tr>\n",
       "    <tr>\n",
       "      <th>1</th>\n",
       "      <td>B</td>\n",
       "      <td>4996.29</td>\n",
       "      <td>350.20</td>\n",
       "    </tr>\n",
       "    <tr>\n",
       "      <th>2</th>\n",
       "      <td>C</td>\n",
       "      <td>-2079.91</td>\n",
       "      <td>174.09</td>\n",
       "    </tr>\n",
       "  </tbody>\n",
       "</table>\n",
       "</div>"
      ],
      "text/plain": [
       "  Group     mean    std\n",
       "0     A  5443.81 529.38\n",
       "1     B  4996.29 350.20\n",
       "2     C -2079.91 174.09"
      ]
     },
     "execution_count": 29,
     "metadata": {},
     "output_type": "execute_result"
    }
   ],
   "source": [
    "# 2c: Group the dataset by the Group field and compute the mean and standard deviation of Feature_3 within each group\n",
    "grouped_stats = df.groupby('Group')['Feature_3'].agg(['mean', 'std']).reset_index()\n",
    "print(\"The mean and standard deviation of Feature_3 within each group are:\")\n",
    "grouped_stats"
   ]
  },
  {
   "cell_type": "markdown",
   "id": "6f09a727-a132-4e06-a372-85766e9136e1",
   "metadata": {},
   "source": [
    "## Question 3"
   ]
  },
  {
   "cell_type": "code",
   "execution_count": 30,
   "id": "605f23fd-6124-4543-adb3-3c1832ad8650",
   "metadata": {},
   "outputs": [
    {
     "data": {
      "image/png": "[encoded data removed]",
      "text/plain": [
       "<Figure size 640x480 with 1 Axes>"
      ]
     },
     "metadata": {},
     "output_type": "display_data"
    }
   ],
   "source": [
    "# Make a scatterplot of Feature_3 vs Feature_1\n",
    "plt.scatter(df['Feature_1'], df['Feature_3'])\n",
    "plt.title('Scatter plot of Feature_3 vs Feature_1')\n",
    "plt.xlabel('Feature_1')\n",
    "plt.ylabel('Feature_3')\n",
    "plt.savefig('scatterplot_feature3_vs_feature1.png')  # Saves the scatter plot as an image file\n",
    "plt.show()  "
   ]
  },
  {
   "cell_type": "markdown",
   "id": "a2f3eb13-6fd3-4116-aa3d-0a1028a76012",
   "metadata": {},
   "source": [
    "## Question 4"
   ]
  },
  {
   "cell_type": "code",
   "execution_count": 36,
   "id": "0e0fd826-83de-47af-a4e5-5524f47a5e25",
   "metadata": {},
   "outputs": [
    {
     "name": "stdout",
     "output_type": "stream",
     "text": [
      "The DataFrame has been saved to 'fake_data.csv' with all floating-point numbers rounded to two decimal places.\n"
     ]
    }
   ],
   "source": [
    "# Define a formatter function to apply 2 decimal places\n",
    "formatter = lambda x: f'{x:.2f}'\n",
    "\n",
    "# Apply the formatter to the DataFrame and then save to CSV\n",
    "df.to_csv('fake_data.csv', float_format=formatter, index=False)\n",
    "\n",
    "print(\"The DataFrame has been saved to 'fake_data.csv' with all floating-point numbers rounded to two decimal places.\")\n"
   ]
  },
  {
   "cell_type": "code",
   "execution_count": null,
   "id": "b48bfcb6-f652-486f-985e-8e83d2da4cca",
   "metadata": {},
   "outputs": [],
   "source": []
  }
 ],
 "metadata": {
  "kernelspec": {
   "display_name": "Python 3 (ipykernel)",
   "language": "python",
   "name": "python3"
  },
  "language_info": {
   "codemirror_mode": {
    "name": "ipython",
    "version": 3
   },
   "file_extension": ".py",
   "mimetype": "text/x-python",
   "name": "python",
   "nbconvert_exporter": "python",
   "pygments_lexer": "ipython3",
   "version": "3.11.5"
  }
 },
 "nbformat": 4,
 "nbformat_minor": 5
}
